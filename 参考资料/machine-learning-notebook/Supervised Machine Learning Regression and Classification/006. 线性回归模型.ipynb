{
 "cells": [
  {
   "cell_type": "markdown",
   "id": "44096776",
   "metadata": {},
   "source": [
    "# Linear Regression with One Variable\n",
    "\n",
    "## Linear Regression Model Part 1\n",
    "\n",
    "In this video, we'll looking at what the overall process of supervised learning is like. Specifically, you see the first model of this course, a linear regression model. That just means fitting a straight line to your data."
   ]
  },
  {
   "cell_type": "markdown",
   "id": "24c88018",
   "metadata": {},
   "source": [
    "<figure>\n",
    "    <center><img src=\"images/006-01.png\" width=\"1000\"><center/>\n",
    "<figure>"
   ]
  },
  {
   "cell_type": "markdown",
   "id": "0f69462f",
   "metadata": {},
   "source": [
    "Let's start with a problem that you can address using linear regression. Say you want to predict the price of a house based on the size of a house. Here we have a graph where the horizontal axis is the size of the house in square feet, and the vertical axis is the price of the house in thousands of dollars\n",
    "\n",
    "You start by measuring the size of the house, and it turns out that her house is 1,250 square feet. How much do you think this house could sell for?\n",
    "\n",
    "One thing you could do is you can build a **linear regression model** from this dataset. Your model will fit a atraight line to the data. And based on this straight line fit to the data, you can kind of see that if a house is 1,250 square feet, it will intersect hte bast fit line over here. And if you trace that to the vertical axis on the left, you can see the price os maybe around here, say about $220,000.\n",
    "\n",
    "So this is a example of supervised learning because **you are first training your model by giving a data that has the right answers**. This linear regression model is a particular type of supervised learning model. It's called regression model because **it predicts numbers as the output**, like prices and dollars. Any supervised learnging model model that predicts a number is addressing what's called a regression problem.\n",
    "\n",
    "And just to remind you, in contrast with the regression model, the other most common type of supervised learning model is called classification model. So if **there is a discrete finite set of possible outputs**, we called it a classification problem."
   ]
  },
  {
   "cell_type": "markdown",
   "id": "f81b43f2",
   "metadata": {},
   "source": [
    "<figure>\n",
    "    <center><img src=\"images/006-02.png\" width=\"1000\"><center/>\n",
    "<figure/>"
   ]
  },
  {
   "cell_type": "markdown",
   "id": "adbf8a43",
   "metadata": {},
   "source": [
    "In addition to visualizing this data as a plot here on the left, there is one other way of looking at the data that would be useful. That's the data table on the right."
   ]
  },
  {
   "cell_type": "markdown",
   "id": "98333ad8",
   "metadata": {},
   "source": [
    "<figure>\n",
    "    <center><img src=\"images/006-03.png\" width=\"1000\"><center/>\n",
    "<figure/>"
   ]
  },
  {
   "cell_type": "markdown",
   "id": "edb0c65f",
   "metadata": {},
   "source": [
    "This is notation that you find useful throughout your journey in machine learning. As you increasingly get familiar with mache learning terminology, this would be terminology they can use to talk about machine learnging concepts with other as well, since a lot of this is quite standard across AI.\n",
    "\n",
    "The dataset that you just saw and that is used to train the model is called a **training set**.  So to predict the price of your client's house, you first train your model to learn from the training set, and that model can then predict your client's houses's price.\n",
    "\n",
    "In machine learning, the standard notation to denote the input here is **lowercase $x$**, and we call this the **input variable**. It's also called a **feature** for an **input feature**. The standard notation to denote the **output variable**, which you are trying to predict, which is also sometimes called the **target varibale**, is **lowercase $y$**.\n",
    "\n",
    "We're going to use **lowercase $m$** to refer to **the total number of training examples**.\n",
    "\n",
    "To indicate **a single training example**, we're going to use the notation **$(x,y)$**. So for the first training example, $(x,y)$, this pair of numbers is $(2104,400)$.\n",
    "\n",
    "Now, we have a lot of different training examples. So to refer to a spacific training example, this will correspond to a specific row in this table on the left. We are going to use the notation $(x,y)$ superscript in **$(x^{(i)},y^{(i)})$**. The superscript tells us that this is the **i-th training example**."
   ]
  },
  {
   "cell_type": "markdown",
   "id": "463cbf97",
   "metadata": {},
   "source": [
    "## Linear Regression Model Part 2\n",
    "\n",
    "Let's look in thsi video a t the process of how supervised learning works."
   ]
  },
  {
   "cell_type": "markdown",
   "id": "cb23e9f3",
   "metadata": {},
   "source": [
    "<figure>\n",
    "    <center><img src=\"images/006-04.png\" width=\"1000\"><center/>\n",
    "<figure/>"
   ]
  },
  {
   "cell_type": "markdown",
   "id": "8e03f4af",
   "metadata": {},
   "source": [
    "Recall that a **training set** in supervised learning includes both the input featrues, such as the size of the hulls, and also the output targets, such as the price of the hulls.The output targets are the right answers that the model will learn form. \n",
    "\n",
    "To train the model, you feed the training set, both the **input featrues** and the **output targets**, to your learning algorithm.\n",
    "\n",
    "Then your supervised learning algorithm will produce some **function**. We'll write this function as **lowercase $f$**, where $f$ stands for function. Historically, this function used to be called hypothesis. And the job of $f$ is to take the new input $x$ and output an estimate, or a prediction, which I'm going to call $\\hat{y}$. In machine learning, the convention is that $\\hat{y}$ is the estimate, or the prediction for $y$. The function $f$ is called the **model**. $x$ is called the **input**, or the **input featrue**, and the output of the model is the **prediction**, $\\hat{y}$. When the symbol is just the letter $y$, then that refers to the **target**, which is the actual true value in the training set."
   ]
  },
  {
   "cell_type": "markdown",
   "id": "dcb583e2",
   "metadata": {},
   "source": [
    "Now, when we design a learning algorithm, a key question is, **how are we going to represent the function $f$**? Or, in other words, **what is the math formula we're going to use to compute $f$**?\n",
    "\n",
    "For new, let's stick with $f$ being a **straight line**. So your function can be written as $f_{w,b}(x)=wx+b$. So this $f_{w,b}$ of $x$ means $f$ is a function that takes $x$ input, and depending on the values of $w$ and $b$, $f$ will output some value of prediction $\\hat{y}$\n",
    "\n",
    "Let's plot the training set on the graph where the input featrue $x$ is on the horizontal axis, and the output target $y$ is on the vertical axis. Remember, the algorithm learns from this data and generates a **best fit line**,  This particlular model has a name, it's called **linear regression with one variable**, another name for a linear model with one input variable is **univariate linear regression**."
   ]
  }
 ],
 "metadata": {
  "language_info": {
   "name": "python"
  }
 },
 "nbformat": 4,
 "nbformat_minor": 5
}
