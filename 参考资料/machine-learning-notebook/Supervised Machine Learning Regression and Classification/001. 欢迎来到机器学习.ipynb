{
 "cells": [
  {
   "cell_type": "markdown",
   "id": "20c4d0fa",
   "metadata": {},
   "source": [
    "# Welcome!\n",
    "**什么是机器学习？**\n",
    "* 在网页搜索“如何制作寿司？”，这之所以效果很好，是因为机器学习软件已经弄清楚了如何对网页进行排名。\n",
    "* 当你刚刚看完一部电影，流媒体服务很可能使用机器学习来推荐你可能喜欢的内容。\n",
    "* 使用手机的语音转文字功能。\n",
    "* 邮箱将某些邮件标记为垃圾邮件"
   ]
  },
  {
   "cell_type": "markdown",
   "id": "458ddfa6",
   "metadata": {},
   "source": [
    "**AI也在迅速进入大公司和工业领域**\n",
    "* 使用机器学习优化风力涡轮机的发电。\n",
    "* 帮助医生诊断病情。\n",
    "* 将计算机视觉引入工厂，帮助检查生产线上的产品是否有缺陷。"
   ]
  },
  {
   "cell_type": "markdown",
   "id": "354f3251",
   "metadata": {},
   "source": [
    "**That's machine learning. It's a science of getting computers to learn without being explicitly programmed.**\n",
    "**这就是机器学习。这是一门让计算机在没有明确编程的情况下学习的学科。**"
   ]
  },
  {
   "cell_type": "markdown",
   "id": "089e1027",
   "metadata": {},
   "source": [
    "在这门课中，你将学习**机器学习**，并亲自在**代码**中实现。\n",
    "\n",
    "**I'm excited that you're on this journey with me.**\n",
    "\n",
    "**Welcome and let's get start.**"
   ]
  }
 ],
 "metadata": {
  "language_info": {
   "name": "python"
  }
 },
 "nbformat": 4,
 "nbformat_minor": 5
}
