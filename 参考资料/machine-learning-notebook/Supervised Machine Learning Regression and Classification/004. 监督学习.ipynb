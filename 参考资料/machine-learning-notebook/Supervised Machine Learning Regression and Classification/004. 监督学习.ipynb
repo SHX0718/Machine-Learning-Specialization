{
 "cells": [
  {
   "cell_type": "markdown",
   "id": "9c114eab",
   "metadata": {},
   "source": [
    "# Machine Learning Overview\n",
    "\n",
    "## Supervised Learning Part 1\n",
    "\n",
    "Machine Learning is creating tremendous economic value today. I think 99% of the economic value created by machine learning today is through one type of machine learning, which called supervised learning."
   ]
  },
  {
   "cell_type": "markdown",
   "id": "bbd09e61",
   "metadata": {},
   "source": [
    "<figure>\n",
    "    <center><img src=\"images/004-01.png\" alt=\"missing\" width=\"1000\"><center/>\n",
    "<figure/>"
   ]
  },
  {
   "cell_type": "markdown",
   "id": "a3f20c5d",
   "metadata": {},
   "source": [
    "Supervised machine learning, or more commonly supervised learning, refers to algorithms that learn X to Y, or input to output labels. The key characteristic of supervised learning is that you give your learning algorithm examples to learn from that include the **right answers**, where bu right answer I mean the correct label Y for giver input X. And it's by seeding correct pairs of input X and desired output label Y that the learning algorithm eventually learns to take just the input alone without the output label and **gives a reasonably accurate prediction or guess of the output**."
   ]
  },
  {
   "cell_type": "markdown",
   "id": "778360a1",
   "metadata": {},
   "source": [
    "**Here are some examples:**\n",
    "\n",
    "<figure>\n",
    "    <center><img src=\"images/004-02.png\" alt=\"missing\" width=\"1000\"><center/>\n",
    "<figure/>"
   ]
  },
  {
   "cell_type": "markdown",
   "id": "dca1dbad",
   "metadata": {},
   "source": [
    "In all of these applications, you would first train your model with examples of inputs X and the right answers, that is, the labels Y. After the model has learned form these input-output or X and Y pairs, it can then take a brand new input X, something it's never seen before, and try to produce the appropriate corresponding output Y."
   ]
  },
  {
   "cell_type": "markdown",
   "id": "b1602d0f",
   "metadata": {},
   "source": [
    "**Let's dive more deeply into one specific example.** Say you want to predict housing prices based on the size of a house\n",
    "\n",
    "<figure>\n",
    "    <center><img src=\"images/004-03.png\" alt=\"missing\" width=\"1000\"><center/>\n",
    "<figure/>"
   ]
  },
  {
   "cell_type": "markdown",
   "id": "b6ee5bfb",
   "metadata": {},
   "source": [
    "So, with this data, let's say a friend wants to know, what's the price for their 750 square foot house? How can a learning algorithm help you?\n",
    "\n",
    "One thing a learning algorithm might be able to do is, say, fit a **straight line** to the data. And reading off the straight line, it looks like your friend's house could be sold for maybe about $150,000.\n",
    "\n",
    "But fitting a stright line isn't the only learning algorithm you can use. There are others that could work better for this application.\n",
    "\n",
    "For example, rather than fitting a straight line, you might decide that it's better to fit a **curve**, a function that's slightly more complicated or more complex than a straight line. If you do that and make a prediction here, then it looks like, your friend's house could be sold for closer to $200,000\n",
    "\n",
    "Now, it doesn't seem appropriate to pick the one that gives your friend the best price. But one thing you see is how to get an algorithm to systematically choose the most appropriate line or curve or other thing to fit to this data."
   ]
  },
  {
   "cell_type": "markdown",
   "id": "93f08325",
   "metadata": {},
   "source": [
    "To define a little bit more terminology, this housing price pridiction is a particular type of supervised learning called **regression**.\n",
    "\n",
    "And by regression, I mean we're trying to predict a number from infinitely many possible numbers, such as the house prices in our example, which could be $150,000 or $170,000 or any other number in between."
   ]
  },
  {
   "cell_type": "markdown",
   "id": "d9ac7474",
   "metadata": {},
   "source": [
    "So that's the supervised learning. Learning input-output or X-to-Y mappings."
   ]
  },
  {
   "cell_type": "markdown",
   "id": "e9c5847c",
   "metadata": {},
   "source": [
    "## Supervised Learning Part 2\n",
    "\n",
    "There's a second major type of supervised learning algorithm, called a **classification algorithm**."
   ]
  },
  {
   "cell_type": "markdown",
   "id": "3285d00c",
   "metadata": {},
   "source": [
    "Take breast cancer detection as an example of a classification problem.\n",
    "\n",
    "Say you're building a machine learning system to that doctors can have a diagnostic tool to detect breast cancer. This is important because early detection could potentially save a patient's life. Using a patient's medical records, your machine learning system tries to figure out if a tumor, that is a lump, is malignant, meaning cancerour or dangerous, or if that tumor, that lump, is benign, meaning that, you know, it's just a lump that isn't cancerous and isn't that dangerous."
   ]
  },
  {
   "cell_type": "markdown",
   "id": "fe99e539",
   "metadata": {},
   "source": [
    "<figure>\n",
    "    <center><img src=\"images/004-04.png\" alt=\"missing\" width=\"1000\"><center/>\n",
    "<figure/>"
   ]
  },
  {
   "cell_type": "markdown",
   "id": "b8708958",
   "metadata": {},
   "source": [
    "So maybe your dataset has tumors of various size, and these tumors are labeled as either benign, which I will designate in this example with a 0, or malignant, which I'll designate in this example with a 1.\n",
    "\n",
    "One reason that this is defferent form regression is that we're trying to predict only **a small number of possible outputs, or categories**. This is different from regression, which tries to predict any number out of an infinitely many number of possible numbers.\n",
    "\n",
    "And so the fact that there are only two possible outputs is what makes this classification. Because there are only two possible outputs, or two possible categories in this example. You can also plot this dataset on a line like this, where now I'm going to use two different symbols to denote the category, using a **circle** or an O to denote the benign examples and a **cross** to denote the malignant examples. And if a new patient walks in for a diagnosis and they have a lump that in this size, then the question is, will your system classify this tumor as benign or malignant?"
   ]
  },
  {
   "cell_type": "markdown",
   "id": "1886da1a",
   "metadata": {},
   "source": [
    "<figure>\n",
    "    <center><img src=\"images/004-05.png\" alt=\"missing\" width=\"1000\"><center/>\n",
    "<figure/>"
   ]
  },
  {
   "cell_type": "markdown",
   "id": "678ec897",
   "metadata": {},
   "source": [
    "It turns out that in classification problems, you can also have more than two possible output categories. Maybe your learning algorithm can output multiple types of cancer diagnoses if it turns out to be malignant. So let's call two different types of cancer type 1 and type 2. In this case, the algorithm would have three possible output categories it could predict.\n",
    "\n",
    "And by the way, in classification, the terms output classes and output categories are often used interchangeably. So when I say class or category when referring to the output, it means the same thing.\n",
    "\n",
    "So to summarize, **classification algorithms predict categories**. Categories don't have to be numbers. It could be non-numeric. For example, it can predict whether a picture is that a cat or a dog. And it predict if a tumor is benign or malignant. Categories can also be numbers like 0 or 1 or 2. But what makes classification different from regression when you're interpreting the numbers is that classification predicts a small, finite, limited set of possible output categories such as 0, 1 and 2, but not all possible numbers in between like 0.5 or 1.7."
   ]
  },
  {
   "cell_type": "markdown",
   "id": "21d08751",
   "metadata": {},
   "source": [
    "In the example of supervised learning that we've been looking at, we had only one input value, the size of the tumor. But you can also use more than one input value to predict output."
   ]
  },
  {
   "cell_type": "markdown",
   "id": "97b74418",
   "metadata": {},
   "source": [
    "<figure>\n",
    "    <center><img src=\"images/004-06.png\" alt=\"missing\" width=\"1000\"><center/>\n",
    "<figure/>"
   ]
  },
  {
   "cell_type": "markdown",
   "id": "fea6294c",
   "metadata": {},
   "source": [
    "Here's an example, instead of just knowing the tumor size, say you also have each patient's age in years. Your new data set new has two inputs: **age** and **tumor size**.  Plotting this new dataset, we're going to use circles to show patients whose tumors are benign and crosses to show the patients with a tumor that was malignant.\n",
    "\n",
    "So given this, how can we predict if this patient's tumor is benign or malignant?\n",
    "\n",
    "Well, given a dataset like this, what the learning alogrithm might do is **find some boundary that separates out the malignant tumors from the benign ones**. So the learning algorithm has to decide how to **fit a boundary line** though this data. \n",
    "\n",
    "In other machine learning problems, often many more input values are required."
   ]
  },
  {
   "cell_type": "markdown",
   "id": "2b6cb012",
   "metadata": {},
   "source": [
    "<figure>\n",
    "    <center><img src=\"images/004-07.png\" alt=\"missing\" width=\"1000\"><center/>\n",
    "<figure/>"
   ]
  },
  {
   "cell_type": "markdown",
   "id": "06b0c093",
   "metadata": {},
   "source": [
    "So to recap, supervised learning maps input X to output Y, where the learning algorithm learns from the quote right answers. The two major types of supervised learning are regression and classification. \n",
    "\n",
    "In a regression application, like predicting prices of houses, the learning algorithm has to **predict numbers from infinitely many possible output numbers**, whereas in classification, the learning algorithm has to **make a prediction of a category out of a small set of possible outputs**."
   ]
  }
 ],
 "metadata": {
  "language_info": {
   "name": "python"
  }
 },
 "nbformat": 4,
 "nbformat_minor": 5
}
