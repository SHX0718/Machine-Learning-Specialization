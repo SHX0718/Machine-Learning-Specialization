{
 "cells": [
  {
   "cell_type": "markdown",
   "id": "e42fc750",
   "metadata": {},
   "source": [
    "# Machine Learning Overview\n",
    "\n",
    "## What is Machine Learning?\n",
    "\n",
    "*Field of study that gives computers the ability to learn without being explicitly probrammed.*              *————Arthur Samuel(1959)*\n",
    "\n",
    "Samuel's claim to fame was that back in the 1950s, he wrote a checkers playing program."
   ]
  },
  {
   "cell_type": "markdown",
   "id": "92cfb35d",
   "metadata": {},
   "source": [
    "<figure>\n",
    "    <center> <img src=\"images/003-01.png\"  alt='missing' width=\"200\"  ><center/>\n",
    "<figure/>"
   ]
  },
  {
   "cell_type": "markdown",
   "id": "467716b7",
   "metadata": {},
   "source": [
    "Samuel himself wasn't a very good checkers player. What he did was , he had programmed a computer to play maybe tens of thousands of games against itself. And by **watching what sorts of board positions tended to lead to wins, and what positions tended to lead to losses**, the checkers playing program learned over time what good or bad board positions. By trying to **get to bood and avoid bad positions**, this program learned to get better and better at playing checkers.\n",
    "\n",
    "Because the computer had the **patience to play tens of thousands of games against itself**, it was able to get so much checkers playing experience that eventually it became a better chechers player than author Samuel himself."
   ]
  },
  {
   "cell_type": "markdown",
   "id": "faf185c7",
   "metadata": {},
   "source": [
    "Here's one about what happens if the computer had played far fewer games. Please take a look and pick whicherver you think is a better answer.\n",
    "\n",
    "<figure>\n",
    "    <center><img src=\"images/003-02.png\" alt=\"missing\" width=\"800\"><center/>\n",
    "<figure/>\n",
    "\n",
    "\n",
    "In general, **the more opportunities you give a learning algorithm to learn, the better it will perform.**"
   ]
  },
  {
   "cell_type": "markdown",
   "id": "a4b63e2b",
   "metadata": {},
   "source": [
    "* **Machine learning algorithm**\n",
    "  * Supervised learning\n",
    "    * used most in real-world applications\n",
    "    * the most rapid advancement and innovation\n",
    "  * Unsupervised learning\n",
    "  * Recommender systems\n",
    "  * Reinforcement learning\n"
   ]
  },
  {
   "cell_type": "markdown",
   "id": "110ea83a",
   "metadata": {},
   "source": [
    "In this specialization, which has three courses in total, the first and second courses will focus on supervised learning and the third will focus on unsupervised learning, recommender systems, and reinforcement learning.\n",
    "\n",
    "Teching about learning algorithms is like giving someone a set of tools, and equally important of even more important than making sure you have great tools is making sure you know **how to apply them**.\n",
    "\n",
    "So in this class, one of the relatively unique things you learn is you learn a lot about the best practices for how to actually develop a practical, valuable machine learning system.\n",
    "\n",
    "In the class, you gain a sense of how the most skilled machine learning engineers build systems, and I hope you finish this class as one of those very rare people in today's world that know how to **design and build serious machine learning systems**."
   ]
  }
 ],
 "metadata": {
  "language_info": {
   "name": "python"
  }
 },
 "nbformat": 4,
 "nbformat_minor": 5
}
