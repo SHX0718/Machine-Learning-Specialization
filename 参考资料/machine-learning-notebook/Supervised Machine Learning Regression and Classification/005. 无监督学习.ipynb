{
 "cells": [
  {
   "cell_type": "markdown",
   "id": "d25fd4b6",
   "metadata": {},
   "source": [
    "# Machine Learning Overview\n",
    "\n",
    "## Unsupervised Learning Part 1\n",
    "\n",
    "We've talked about supervised learnging, and this video is about unsupervised learning. But don't let the name unsupervised fool you. Unsupervised learning is, I think, just as super as supervised learning"
   ]
  },
  {
   "cell_type": "markdown",
   "id": "76861ca8",
   "metadata": {},
   "source": [
    "<figure>\n",
    "    <center><img src=\"images/005-01.png\" alt=\"missing\" width=\"1000\"><center/>\n",
    "<figure/>"
   ]
  },
  {
   "cell_type": "markdown",
   "id": "fb5a29a6",
   "metadata": {},
   "source": [
    "When we're looking at supervised learning in the last video, recall that it looks something like this. In the case of a classification problem, each example was associated with an output label Y, such as benign or malignant, designated by the circles and crosses.\n",
    "\n",
    "In unsupervised learning, we're given data that isn't associated with any output labels Y. Say you're given data on patients and their tumor size and the patient's age, but not whether the tumor was benign and malignant. So the dataset looks like this on the right. We not asked to diagnose whether the tumor is benign or malignant because we're not given any labels Y in the dataset. Instead, our job is to find some structure or some pattern, or just find something interesting in the data. This is unsupervised learning.\n",
    "\n",
    "We call it unsupervised because we're not trying to supervise the alogrithm to give some quote right answer for every input. Instead, we ask the algorithm to figure out all by itself what's interesting or what patterns or structures there might be in this data. With this particular dataset, an unsupervised learning algorithm might decide that the data can be assigned to two different groups or two different clusters. This is a particular type of unsupervised learning called a clustering algorithm because it palces the unlabeled data into different clusters"
   ]
  },
  {
   "cell_type": "markdown",
   "id": "521f299b",
   "metadata": {},
   "source": [
    "<figure>\n",
    "    <center><img src=\"images/005-02.png\" alt=\"missing\" width=\"1000\"><center/>\n",
    "<figure>"
   ]
  },
  {
   "cell_type": "markdown",
   "id": "f5d47832",
   "metadata": {},
   "source": [
    "For example, clustering is used in Google News. What Google News does is everyday it goes and looks at hundreds of thousands of news articles on the internet and groups related stories together.\n",
    "\n",
    "So the clustering algorithm is finding articles out of all the hundreds of thousands of news articles on the internet that day, finding the articles that mention similar words and grouping them into clusters.\n",
    "\n",
    "The algorithm has to figure out on its own without supervision what are the clusters of news articles today."
   ]
  },
  {
   "cell_type": "markdown",
   "id": "d458b44b",
   "metadata": {},
   "source": [
    "<figure>\n",
    "    <center><img src=\"images/005-03.png\" alt=\"missing\" width=\"1000\"><center/>\n",
    "<figure/>"
   ]
  },
  {
   "cell_type": "markdown",
   "id": "dfd5c86a",
   "metadata": {},
   "source": [
    "Let's look at the second example of unsupervised learning applied to clustering genetic or DNA data.\n",
    "\n",
    "This image shows a picture of DNA microarray data. Each tiny column represents the genetic or DNA activity of one person. Each row represents a particular gene.\n",
    "\n",
    "For DNA microarrays, the idea is to measure how much certain genes are expressed for each individual person. So these colors, red, green, gray, and so on, show the degree to which different individuals do or not nave a specific gene active. And what you can do is then run a clustering algorithm. the group individuals into different categories or different types of people, such as type 1, type 2 and type 3.\n",
    "\n",
    "This is unsupervised learning because we're not telling the algorithm in advance that there is a type one person with certain characteristics or a type two person with certain characteristics. Instead, what we're saying is, here is a bunch of data. I don't know what the different types of people are, but can you automatically find structrue into data and automatically figure out what are the major types of individuals? Since we're not giving the alogrithm the right answer for the examples in advance, this is unsupervised learning."
   ]
  },
  {
   "cell_type": "markdown",
   "id": "54781bbd",
   "metadata": {},
   "source": [
    "<figure>\n",
    "    <center><img src=\"images/005-04.png\" alt=\"missing\" width=\"1000\"><center/>\n",
    "<figure>"
   ]
  },
  {
   "cell_type": "markdown",
   "id": "20676270",
   "metadata": {},
   "source": [
    "Here is the third example. Many companies have huge databases of customer information. Given this data, can you automatically group your customers into different market segments so that you can more efficiently serve your customers?\n",
    "\n",
    "Let's visualize the DeepLearning.AI community as this collection of people running clustering, that is market segmentation, found a few distinct groups of individuals. One group's primary motivation is seeking knowledge to grow their skills. A second group's primary motivation is looking for a way to develop their career. Ant yet another group wants to stay updated on how AI impacts their field of work. This is clustering that out team used to try to better serve our community as we're trying to figure out what are the major categories of learners in the DeepLearning.AI community."
   ]
  },
  {
   "cell_type": "markdown",
   "id": "b997bed8",
   "metadata": {},
   "source": [
    "So to summarize, a clustering algorithm, which is a type of unsupervised learning algorithm, takes data without labels and tries to automatically group them into clusters."
   ]
  },
  {
   "cell_type": "markdown",
   "id": "53a57d10",
   "metadata": {},
   "source": [
    "## Unsupervised Learning Part 2\n",
    "\n",
    "Let's give a slight more formal definition of unsupervised learning, and take a quick look at some other types of unsupervised learning other than clustering."
   ]
  },
  {
   "cell_type": "markdown",
   "id": "987db633",
   "metadata": {},
   "source": [
    "<figure>\n",
    "    <center><img src=\"images/005-05.png\" alt=\"missing\" width=\"1000\"><center/>\n",
    "<figure/>"
   ]
  },
  {
   "cell_type": "markdown",
   "id": "a4d6f06d",
   "metadata": {},
   "source": [
    "We've seen just one example of unsupervised learning called **clustering algorithm**, which groups similar data points together.\n",
    "\n",
    "**Anormaly detection**, which is used to detect unusual events. This turns out to be really important for graud detection in the financial system, where unusual events, unusual transactions could be a sign of fraud, and for many other applications.\n",
    "\n",
    "And you also learn about **dimensionality reduction**. This let you take a big dataset, and almost magically compress it to a much smaller dataset, while losing as little information as possible."
   ]
  },
  {
   "cell_type": "markdown",
   "id": "aaee6b9f",
   "metadata": {},
   "source": [
    "<figrue>\n",
    "    <center><img src=\"images/005-06.png\" width=\"1000\"><center/>\n",
    "<figure/>"
   ]
  }
 ],
 "metadata": {
  "language_info": {
   "name": "python"
  }
 },
 "nbformat": 4,
 "nbformat_minor": 5
}
