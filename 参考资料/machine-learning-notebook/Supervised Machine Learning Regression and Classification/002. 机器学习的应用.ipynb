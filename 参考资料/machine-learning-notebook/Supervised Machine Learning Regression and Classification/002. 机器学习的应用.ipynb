{
 "cells": [
  {
   "cell_type": "markdown",
   "id": "e5055b36",
   "metadata": {},
   "source": [
    "# Machine Learning Overview\n",
    "\n",
    "## Applications of Machine Learning\n",
    "\n",
    "In this class, you learn about the state-of-the-art and also practice implementing machine learning algorithms yourself. You learn about the most important machine learning algorithm, some of which exactly what's being used in large AI or large tech companies today, and you get a sense of what is the state-of-the-art in AI.\n",
    "\n",
    "Beyond learning the algorithm, though, in this class, you also learn all the important practical tips and tricks for making them perform well, and you get to implement them and see how they work for yourself."
   ]
  },
  {
   "cell_type": "markdown",
   "id": "5bbf89a1",
   "metadata": {},
   "source": [
    "**so, why is machine learning so widely used today?**\n",
    "\n",
    "Machine learning had grown up as a subfield of AI\n",
    "\n",
    "我们希望构建智能机器，事实证明，我们可以编程让机器做一些基本的事情，比如在GPS中找到从A到B的最短路径。但在大多数情况下，我们并不知道如何编写一个明确的程序来完成更有趣的事情。**The only way we knew how to do these things was to have a machine learn to do it by it self.**"
   ]
  },
  {
   "cell_type": "markdown",
   "id": "3e19e267",
   "metadata": {},
   "source": [
    "Looking even further into the future, many people, including me, are excited about the AI dream of someday building machines as intelligent as you or me. This sometimes called **Artifical General Intelligence**, or **AGI**.\n",
    "\n",
    "I think AGI has been overhyped and we're still a long way away form that goal."
   ]
  },
  {
   "cell_type": "markdown",
   "id": "467179a7",
   "metadata": {},
   "source": [
    "In the next video, we'll look at a more formal definition of what is machine learning, and we'll begin to talk about the main types of machine learning problems and algorithm."
   ]
  }
 ],
 "metadata": {
  "language_info": {
   "name": "python"
  }
 },
 "nbformat": 4,
 "nbformat_minor": 5
}
