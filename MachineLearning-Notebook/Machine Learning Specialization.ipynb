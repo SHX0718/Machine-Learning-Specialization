{
 "cells": [
  {
   "cell_type": "markdown",
   "id": "f53f9071",
   "metadata": {},
   "source": [
    "# Course 1 - Supervised Machine Learning: Regression and Classification"
   ]
  },
  {
   "cell_type": "markdown",
   "id": "9354b883",
   "metadata": {},
   "source": [
    "## Week 1: Introduction to Machine Learning\n",
    "Welcome to the Machine Learning Specialization! You're joining millions of others who have taken either this or the original course, which led to the founding of Coursera, and has helped millions of other learners, like you, take a look at the exciting world of machine learning!\n",
    "\n",
    "**Learning Objectives**\n",
    "* Define machine learning\n",
    "* Define supervised learning\n",
    "* Define unsupervised learning\n",
    "* Write and run Python code in Jupyter Notebooks\n",
    "* Define a regression model\n",
    "* Implement and visualize a cost function\n",
    "* Implement gradient descent\n",
    "* Optimize a regression model using gradient descent\n",
    "\n",
    "---\n",
    "\n",
    "### Overview of Machine Learning\n",
    "\n",
    "---\n",
    "\n",
    "#### Welcome to machine learning!\n",
    "Welcome to Machine learning. What is machine learning? You probably use it many times a day without even knowing it. \n",
    "\n",
    "Anytime you want to find out something like how do I make a sushi roll? You can do a web search on Google, Bing or Baidu to find out. And that works so well because their machine learning software has figured out how to rank web pages. Or when you upload pictures to Instagram or Snapchat and think to yourself, I want to tag my friends so they can see their pictures. Well these apps can recognize your friends in your pictures and label them as well. That's also machine learning. Or if you've just finished watching a Star Wars movie on the video streaming service and you think what other similar movies can I watch? Well the streaming service will likely use machine learning to recommend something that you might like. Each time you use voice to text on your phone to write a text message. \"Hey Andrew, how's it going?\" Or tell your phone, \"Hey Siri play a song by Rihanna\", or ask your other phone, \"okay Google show me Indian restaurants near me\".That's also machine learning. Each time you receive an email titled, Congratulations! You've won a million dollars. Well maybe you're rich, congratulations. Or more likely your email service will probably flag it as spam. That too is an application of machine learning. \n",
    "\n",
    "Beyond consumer applications that you might use, AI is also rapidly making its way into big companies and into industrial applications. For example, I'm deeply concerned about climate change, and I'm glad to see that machine learning is already hoping to optimize wind turbine power generation. Or in healthcare, is starting to make its way into hospitals to help doctors make accurate diagnosis. Or recently at Landing AI have been doing a lot of work, putting computer vision into factories to help inspect if something coming off the assembly line has any defects. \n",
    "\n",
    "<mark>That's machine learning, it's the science of getting computers to learn without being explicitly programmed</mark>. In this course, you learn about machine learning and get to implement machine learning and code yourself. Millions of others have taken the earlier version of this course, which is of course, that led to the founding of Coursera. And many learners ended up building exciting machine learning systems or even pursuing very successful careers in AI. I'm excited that you're on this journey with me. Welcome and let's get started.\n",
    "\n",
    "---\n",
    "\n",
    "#### Applications of machine learning\n",
    "\n",
    "In this class, you'll learn about the state of the art and also practice implementing machine learning algorithms yourself. You'll learn about **the most important machine learning algorithms**, some of which are exactly what's being used in large AI or large tech companies today and you get a sense of what is the state of the art in AI. Beyond learning the algorithms though, in this class, you'll also learn **all the important practical tips and tricks for making them perform well**. You get to **implement them and see how they work** for yourself. \n",
    "\n",
    "Why is machine learning so widely used today? Machine Learning had grown up as a sub-field of AI or artificial intelligence. We wanted to build intelligent machines. It turns out that there are a few basic things that we could program a machine to do, such as how to find the shortest path from a to b, like in your GPS. But for the most part, we just did not know how to write an explicit program to do many of the more interesting things, such as perform web search, recognize human speech, diagnose diseases from X-rays or build a self-driving car. The only way we knew how to do these things was to have a machine learn to do it by itself. \n",
    "\n",
    "*For me, when I founded and was leading the Google Brain Team, I worked on problems like speech recognition, computer vision for Google Maps, Street View images and advertising, or leading AI Baidu, I worked on everything from AI for augmented reality to combating payment fraud to leading a self-driving car team. Most recently, at landing.AI, AI Fund and Stanford University, I'm beginning to work on AI applications in the factory, large-scale agriculture, health care, e-commerce, and other problems. Today, there are hundreds of thousands, perhaps millions of people working on machine learning applications who could tell you similar stories about their work with machine learning.* When you've learned these skills, I hope that you too will find the great fun to dabble in exciting different applications and maybe even different industries. In fact, I find it hard to think of any industry that machine learning is unlikely to touch in a significant way now or in the near future. \n",
    "\n",
    "Looking even further into the future, many people, including me, are excited about the AI dream of someday building machines as intelligent as you or me. This is sometimes called **Artificial General Intelligence** or **AGI**. I think AGI has been overhyped and we're still a long way away from that goal. I don't know. It'll take 50 years or 500 years or longer to get there. But mostly AI researchers believe that the best way to get closer toward that goal is by using **learning algorithms**. Maybe ones that take some inspiration from how the human brain works. You also hear a little more about this Quest for AGI later in this course. \n",
    "\n",
    "According to a study by McKinsey, AI and machine learning is estimated to create an additional 13 trillion US dollars of value annually by the year 2030. Even though machine learning is already creating tremendous amounts of value in the software industry, I think there could be even vastly greater value that has yet to be created outside the software industry in sectors such as retail, travel, transportation, automotive, materials manufacturing, and so on. \n",
    "\n",
    "Because of the massive untapped opportunities across so many different sectors, today there is a vast unfulfilled demand for this skill set. That's why this is such a great time to be learning about machine learning. \n",
    "\n",
    "If you find machine learning applications exciting, I hope you stick with me through this class. I can almost guarantee that you'll find mastering these skills worthwhile. In the next video, we'll look at a more formal definition of what is machine learning. And we'll begin to talk about the main types of machine learning problems and algorithms. You pick up some of the main machine learning terminology and start to get a sense of what are the different algorithms and when each one might be appropriate. So let's go on to the next video.\n",
    "\n",
    "\n",
    "\n"
   ]
  },
  {
   "cell_type": "markdown",
   "id": "1b456554",
   "metadata": {},
   "source": []
  }
 ],
 "metadata": {
  "kernelspec": {
   "display_name": "MLS",
   "language": "python",
   "name": "python3"
  },
  "language_info": {
   "name": "python",
   "version": "3.13.5"
  }
 },
 "nbformat": 4,
 "nbformat_minor": 5
}
